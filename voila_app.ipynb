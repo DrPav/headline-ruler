{
 "cells": [
  {
   "cell_type": "markdown",
   "metadata": {
    "id": "3dB5PXdlPECw"
   },
   "source": [
    "# NPI News Classifier"
   ]
  },
  {
   "cell_type": "code",
   "execution_count": null,
   "metadata": {
    "id": "FBxRfY_gYhNP",
    "tags": [
     "hide"
    ]
   },
   "outputs": [],
   "source": [
    "# !pip install -Uqq fastbook\n",
    "# import fastbook\n",
    "# fastbook.setup_book()\n",
    "\n",
    "from ipywidgets import interact\n",
    "\n",
    "import requests\n",
    "import pandas as pd\n",
    "from bs4 import BeautifulSoup\n",
    "from IPython.display import HTML\n",
    "import urllib.request\n",
    "\n",
    "\n",
    "from fastai.text.all import *\n"
   ]
  },
  {
   "cell_type": "code",
   "execution_count": null,
   "metadata": {
    "id": "sGFpx-qJYvVK",
    "tags": [
     "hide"
    ]
   },
   "outputs": [],
   "source": [
    "MODEL_URL = \"https://www.dropbox.com/s/wg7gaa9gz8lmfrm/classifier_2020-11-11_1807.pkl?dl=1\"\n",
    "urllib.request.urlretrieve(MODEL_URL, \"classifier_2020-11-11_1807.pkl\")"
   ]
  },
  {
   "cell_type": "code",
   "execution_count": null,
   "metadata": {
    "id": "uQkSMBXJYxCg",
    "tags": [
     "hide"
    ]
   },
   "outputs": [],
   "source": [
    "classifier = load_learner(\"classifier_2020-11-11_1807.pkl\")\n",
    "classifier.no_bar()\n",
    "classifier.no_logging()\n",
    "classifier.no_mbar()"
   ]
  },
  {
   "cell_type": "code",
   "execution_count": null,
   "metadata": {
    "id": "kqpCv5lJeNV1",
    "tags": [
     "hide"
    ]
   },
   "outputs": [],
   "source": [
    "def get_articles(query: str, country: str):\n",
    "  url = \"https://api.gdeltproject.org/api/v2/doc/doc\"\n",
    "  if country == 'world':\n",
    "    query_modifier =  ''\n",
    "  else:\n",
    "    query_modifier = 'sourcecountry:{}'.format(country)\n",
    "  payload = {\n",
    "      'query': '{} {} sourcelang:english'.format(query, query_modifier),\n",
    "      'mode': \"ArtList\",\n",
    "      'format': 'RSS',\n",
    "      'maxrecords': 250,\n",
    "      'timespan':'1d'\n",
    "  }\n",
    "  r = requests.get(url, params=payload)\n",
    "  return(r)\n",
    "\n",
    "def parse_articles(r: requests.Response):\n",
    "  soup = BeautifulSoup(r.text, 'xml')\n",
    "  data = [{'headline':i.title.text, 'url':i.link.text} for i in soup.find_all('item') if i.link is not None]\n",
    "  df = pd.DataFrame(data)\n",
    "  return(df)\n",
    "\n",
    "def output_prediction_table(query: str, country: str):\n",
    "  r = get_articles(query, country)\n",
    "  df = parse_articles(r)\n",
    "  df = df.groupby('headline', as_index=False).agg(first)\n",
    "  headlines = df.headline.to_list()\n",
    "  predictions = [classifier.predict(headline)[2][1] for headline in headlines]\n",
    "  df['score'] = [float(p)*100 for p in predictions]\n",
    "  # test_dl = classifier.dls.test_dl(headlines)\n",
    "  # df['score'] = [float(i[1]) for i in classifier.get_preds(dl=test_dl)[0]]\n",
    "  # df['score'] = np.round(df['score'] * 100).astype(int)\n",
    "  df = df.sort_values('score', ascending=False)\n",
    "  df = df[df.score > 0]\n",
    "\n",
    "  def make_href(row: pd.Series):\n",
    "    return '<a href=\"{}\">{}</a>'.format(row.url, row.headline)\n",
    "\n",
    "  df['headline'] = df.apply(make_href, axis = 1)\n",
    "  html_string = df[['score', 'headline']].to_html(index=False)\n",
    "  html_string = (\n",
    "      html_string.replace('&lt;', '<')\n",
    "      .replace('&gt;', '>')\n",
    "      .replace('&lt;/a&gt;', '/a')\n",
    "  )\n",
    "  return HTML(html_string)"
   ]
  },
  {
   "cell_type": "code",
   "execution_count": null,
   "metadata": {
    "id": "Hz1zYn7Ynznu"
   },
   "outputs": [],
   "source": [
    "interact(output_prediction_table, \n",
    "         query = \"(covid OR coronavirus OR virus OR pandemic) (rules OR restrictions OR shutdown OR measures OR lockdown)\",\n",
    "         country=\"world\")"
   ]
  }
 ],
 "metadata": {
  "celltoolbar": "Tags",
  "colab": {
   "name": "voila app.ipynb",
   "provenance": []
  },
  "kernelspec": {
   "display_name": "Python 3",
   "language": "python",
   "name": "python3"
  },
  "language_info": {
   "codemirror_mode": {
    "name": "ipython",
    "version": 3
   },
   "file_extension": ".py",
   "mimetype": "text/x-python",
   "name": "python",
   "nbconvert_exporter": "python",
   "pygments_lexer": "ipython3",
   "version": "3.6.11"
  }
 },
 "nbformat": 4,
 "nbformat_minor": 1
}
