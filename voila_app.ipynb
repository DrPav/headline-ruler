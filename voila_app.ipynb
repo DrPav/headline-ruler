{
  "nbformat": 4,
  "nbformat_minor": 0,
  "metadata": {
    "colab": {
      "name": "voila app.ipynb",
      "provenance": [],
      "toc_visible": true
    },
    "kernelspec": {
      "display_name": "Python 3",
      "name": "python3"
    },
    "widgets": {
      "application/vnd.jupyter.widget-state+json": {
        "fa6d91b205de4df2b61d56b88d2f82e8": {
          "model_module": "@jupyter-widgets/controls",
          "model_name": "VBoxModel",
          "state": {
            "_view_name": "VBoxView",
            "_dom_classes": [
              "widget-interact"
            ],
            "_model_name": "VBoxModel",
            "_view_module": "@jupyter-widgets/controls",
            "_model_module_version": "1.5.0",
            "_view_count": null,
            "_view_module_version": "1.5.0",
            "box_style": "",
            "layout": "IPY_MODEL_d3911e64d2f14a709e9980d03b9b0f7a",
            "_model_module": "@jupyter-widgets/controls",
            "children": [
              "IPY_MODEL_72e3a480c2fd44cf97ef6f04fd660588",
              "IPY_MODEL_e74440d69d684e95b75e04733373e16b",
              "IPY_MODEL_8f7fefd599f24d829f953482e35dbf5d"
            ]
          }
        },
        "d3911e64d2f14a709e9980d03b9b0f7a": {
          "model_module": "@jupyter-widgets/base",
          "model_name": "LayoutModel",
          "state": {
            "_view_name": "LayoutView",
            "grid_template_rows": null,
            "right": null,
            "justify_content": null,
            "_view_module": "@jupyter-widgets/base",
            "overflow": null,
            "_model_module_version": "1.2.0",
            "_view_count": null,
            "flex_flow": null,
            "width": null,
            "min_width": null,
            "border": null,
            "align_items": null,
            "bottom": null,
            "_model_module": "@jupyter-widgets/base",
            "top": null,
            "grid_column": null,
            "overflow_y": null,
            "overflow_x": null,
            "grid_auto_flow": null,
            "grid_area": null,
            "grid_template_columns": null,
            "flex": null,
            "_model_name": "LayoutModel",
            "justify_items": null,
            "grid_row": null,
            "max_height": null,
            "align_content": null,
            "visibility": null,
            "align_self": null,
            "height": null,
            "min_height": null,
            "padding": null,
            "grid_auto_rows": null,
            "grid_gap": null,
            "max_width": null,
            "order": null,
            "_view_module_version": "1.2.0",
            "grid_template_areas": null,
            "object_position": null,
            "object_fit": null,
            "grid_auto_columns": null,
            "margin": null,
            "display": null,
            "left": null
          }
        },
        "72e3a480c2fd44cf97ef6f04fd660588": {
          "model_module": "@jupyter-widgets/controls",
          "model_name": "TextModel",
          "state": {
            "_view_name": "TextView",
            "style": "IPY_MODEL_6a61ecda10cf4a55b7a84152f0af8938",
            "_dom_classes": [],
            "description": "query",
            "_model_name": "TextModel",
            "placeholder": "​",
            "_view_module": "@jupyter-widgets/controls",
            "_model_module_version": "1.5.0",
            "value": "(covid OR coronavirus OR virus OR pandemic) (rules OR restrictions OR shutdown OR measures OR lockdown)",
            "_view_count": null,
            "disabled": false,
            "_view_module_version": "1.5.0",
            "continuous_update": true,
            "description_tooltip": null,
            "_model_module": "@jupyter-widgets/controls",
            "layout": "IPY_MODEL_016a1bf030f84e87aa35ace5118478f2"
          }
        },
        "e74440d69d684e95b75e04733373e16b": {
          "model_module": "@jupyter-widgets/controls",
          "model_name": "TextModel",
          "state": {
            "_view_name": "TextView",
            "style": "IPY_MODEL_a20338ef4c814e058b424250aef8e27d",
            "_dom_classes": [],
            "description": "country",
            "_model_name": "TextModel",
            "placeholder": "​",
            "_view_module": "@jupyter-widgets/controls",
            "_model_module_version": "1.5.0",
            "value": "world",
            "_view_count": null,
            "disabled": false,
            "_view_module_version": "1.5.0",
            "continuous_update": true,
            "description_tooltip": null,
            "_model_module": "@jupyter-widgets/controls",
            "layout": "IPY_MODEL_b60d209658c44fdd8a96465203532546"
          }
        },
        "8f7fefd599f24d829f953482e35dbf5d": {
          "model_module": "@jupyter-widgets/output",
          "model_name": "OutputModel",
          "state": {
            "_view_name": "OutputView",
            "msg_id": "",
            "_dom_classes": [],
            "_model_name": "OutputModel",
            "outputs": [
              {
                "output_type": "display_data",
                "metadata": {
                  "tags": []
                },
                "text/html": "<table border=\"1\" class=\"dataframe\">\n  <thead>\n    <tr style=\"text-align: right;\">\n      <th>relevance</th>\n      <th>headline</th>\n    </tr>\n  </thead>\n  <tbody>\n    <tr>\n      <td>100</td>\n      <td><a href=\"https://ktvz.com/news/national-world/2020/11/17/the-latest-south-korea-tightens-social-distancing-rules/\">The Latest : Austria starts tough lockdown to slow virus</a></td>\n    </tr>\n    <tr>\n      <td>69</td>\n      <td><a href=\"https://www.dailymail.co.uk/news/article-8923719/Greece-Paris-Italy-new-coronavirus-restrictions-Tom-Cruise-continues-filming-Venice.html\">Greece , Paris and Italy under new coronavirus restrictions as Tom Cruise continues filming in Venice</a></td>\n    </tr>\n    <tr>\n      <td>51</td>\n      <td><a href=\"https://www.eveningexpress.co.uk/news/uk/government-to-decide-next-week-on-new-tier-restrictions-for-england/\">Government to decide next week on new tier restrictions for England</a></td>\n    </tr>\n    <tr>\n      <td>40</td>\n      <td><a href=\"https://www.businessinsider.com/sweden-covid19-covid-lockdown-restrictions-rules-deaths-cases-stefan-loftven-2020-11\">Sweden second wave forces tougher COVID - 19 restrictions</a></td>\n    </tr>\n    <tr>\n      <td>33</td>\n      <td><a href=\"https://www.bbc.co.uk/news/live/world-54971208\">Coronavirus updates : England post - lockdown tiers  may need strengthening  </a></td>\n    </tr>\n    <tr>\n      <td>30</td>\n      <td><a href=\"https://www.baynews9.com/fl/tampa/news/2020/11/17/new-covid-restrictions-chicago-michigan-california-north-dakota\">Governors , Mayors Impose New COVID Restrictions</a></td>\n    </tr>\n    <tr>\n      <td>25</td>\n      <td><a href=\"https://www.witneygazette.co.uk/news/18876643.hancock-unable-rule-lockdown-extension-december/\">Hancock unable to rule out lockdown extension in December</a></td>\n    </tr>\n    <tr>\n      <td>24</td>\n      <td><a href=\"https://www.nottinghampost.com/news/uk-world-news/lockdown-could-extended-beyond-december-4707588\">Lockdown could be extended beyond December 2</a></td>\n    </tr>\n    <tr>\n      <td>23</td>\n      <td><a href=\"https://news.yahoo.com/socialising-indoors-banned-lockdown-government-science-adviser-094917413.html\">Socialising indoors  could be banned after lockdown ends  </a></td>\n    </tr>\n    <tr>\n      <td>21</td>\n      <td><a href=\"https://www.telegraph.co.uk/news/2020/11/17/new-second-national-lockdown-covid-rules-restrictions/\">What England Covid lockdown rules mean for you - and when they could end</a></td>\n    </tr>\n    <tr>\n      <td>20</td>\n      <td><a href=\"https://liveupdates.hindustantimes.com/india/coronavirus-india-world-latest-news-covid-19-death-toll-november-17-21605575005299.html\">LIVE : Delhi govt may shut shops in Covid - 19 hotspots , says CM Kejriwal</a></td>\n    </tr>\n    <tr>\n      <td>19</td>\n      <td><a href=\"https://www.businessinsider.in/science/health/news/sweden-having-refused-to-lock-down-is-now-bringing-in-tougher-covid-19-restrictions-as-cases-and-deaths-soar-this-is-the-new-norm-the-prime-minister-said-/articleshow/79263693.cms\">Sweden , having refused to lock down , is now bringing in tougher COVID - 19 restrictions as cases and deaths soar .  This is the new norm , the prime minister said . </a></td>\n    </tr>\n    <tr>\n      <td>18</td>\n      <td><a href=\"https://www.thesun.co.uk/news/13218156/will-lockdown-be-extended-in-england/\">Will lockdown be extended in England ? </a></td>\n    </tr>\n    <tr>\n      <td>14</td>\n      <td><a href=\"https://www.hertfordshiremercury.co.uk/news/hertfordshire-news/uk-coronavirus-england-lockdown-ends-4708190\">UK coronavirus : Matt Hancock unable to rule out England lockdown extension past December 2</a></td>\n    </tr>\n    <tr>\n      <td>14</td>\n      <td><a href=\"http://www.msn.com/en-us/news/world/merkel-shows-optimism-england-may-need-more-curbs-virus-update/ar-BB1b4mux\">Merkel Shows Optimism ; England May Need More Curbs : Virus Update</a></td>\n    </tr>\n    <tr>\n      <td>14</td>\n      <td><a href=\"https://www.msn.com/en-us/money/markets/moderna-spurs-vaccine-hopes-risk-to-us-recovery-virus-update/ar-BB1b4mux\">Moderna Spurs Vaccine Hopes ; Risk to U . S . Recovery : Virus Update</a></td>\n    </tr>\n    <tr>\n      <td>13</td>\n      <td><a href=\"http://www.msn.com/en-nz/news/uknews/coronavirus-will-lockdown-be-extended/ar-BB1b2bhk\">Coronavirus : Will lockdown be extended ? </a></td>\n    </tr>\n    <tr>\n      <td>12</td>\n      <td><a href=\"https://news.yahoo.com/should-the-us-lock-down-again-to-stop-the-coronavirus-201955246.html\">Should the U . S . lock down again to stop the coronavirus ? </a></td>\n    </tr>\n    <tr>\n      <td>10</td>\n      <td><a href=\"https://www.pressherald.com/2020/11/14/the-latest-nevada-reports-daily-record-for-2nd-day-in-row/\">The Latest : Vaccine scientist says it could halve transmission of virus</a></td>\n    </tr>\n    <tr>\n      <td>10</td>\n      <td><a href=\"https://www.hulldailymail.co.uk/news/uk-world-news/live-government-refuses-rule-out-4707615\">Live as government refuses to rule out coronavirus lockdown extension</a></td>\n    </tr>\n    <tr>\n      <td>10</td>\n      <td><a href=\"https://timesofmalta.com/articles/view/who-recommends-culturally-acceptable-covid-19-strategy.832108\">WHO recommends  culturally acceptable  COVID - 19 strategy</a></td>\n    </tr>\n    <tr>\n      <td>10</td>\n      <td><a href=\"https://www.washingtonpost.com/politics/biden-coronavirus-lockdown-trump/2020/11/16/5ac24efa-2820-11eb-9b14-ad872157ebc9_story.html\">Biden wants to curb the coronavirus but steers clear of lockdowns</a></td>\n    </tr>\n    <tr>\n      <td>9</td>\n      <td><a href=\"https://www.bristolpost.co.uk/news/uk-world-news/alcohol-sales-could-banned-after-4707779\">Alcohol sales could be banned after 10pm in tough post - lockdown rules</a></td>\n    </tr>\n    <tr>\n      <td>9</td>\n      <td><a href=\"https://www.msn.com/en-gb/news/uknews/covid-tier-system-for-england-under-review-says-minister/ar-BB1b5fKs\">Covid tier system for England under review , says minister</a></td>\n    </tr>\n    <tr>\n      <td>8</td>\n      <td><a href=\"https://www.reuters.com/article/us-health-coronavirus-germany/germans-should-brace-for-4-5-months-of-severe-covid-19-measures-minister-says-idUKKBN27V080\">Germans should brace for 4 - 5 months of severe COVID - 19 measures , minister says</a></td>\n    </tr>\n    <tr>\n      <td>8</td>\n      <td><a href=\"https://www.rte.ie/news/coronavirus/2020/1117/1178618-uk-covid/\">UK health minister not ruling out lockdown extension</a></td>\n    </tr>\n    <tr>\n      <td>7</td>\n      <td><a href=\"https://www.hartlepoolmail.co.uk/health/coronavirus/matt-hancock-unable-rule-out-extension-lockdown-warning-over-strengthened-tier-system-3037843\">Matt Hancock unable to rule out extension to lockdown with warning over strengthened tier system</a></td>\n    </tr>\n    <tr>\n      <td>7</td>\n      <td><a href=\"https://www.messengernewspapers.co.uk/news/national/18876639.hancock-unable-rule-lockdown-extension-amid-warning-strengthened-tiers/\">Hancock unable to rule out lockdown extension amid warning of strengthened tiers</a></td>\n    </tr>\n    <tr>\n      <td>7</td>\n      <td><a href=\"https://www.cambridge-news.co.uk/news/uk-world-news/alcohol-sales-banned-10pm-lockdown-19292637\">Will we be in lockdown for Christmas ? Alcohol sales could be banned after 10pm in tough post - lockdown rules</a></td>\n    </tr>\n    <tr>\n      <td>6</td>\n      <td><a href=\"https://www.cbsnews.com/news/joe-biden-lockdown-covid-advisory-team-reject-idea/\">Biden advisers reject idea of nationwide lockdown despite coronavirus surge</a></td>\n    </tr>\n    <tr>\n      <td>5</td>\n      <td><a href=\"https://www.vancouverisawesome.com/coronavirus-covid-19-local-news/this-map-shows-where-the-highest-numbers-of-covid-19-are-in-bc-map-2883651\">This map shows where the highest numbers of coronavirus are in B . C . ( MAP ) </a></td>\n    </tr>\n    <tr>\n      <td>5</td>\n      <td><a href=\"https://www.express.co.uk/news/uk/1361056/coronavirus-deaths-uk-ONS-covid-death-toll-uk-cases-lockdown-latest-boris-johnson\">Coronavirus deaths in united kingdom soar by 1 , 937 in single week - ONS issues bleak update</a></td>\n    </tr>\n  </tbody>\n</table>",
                "text/plain": "<IPython.core.display.HTML object>"
              }
            ],
            "_view_module": "@jupyter-widgets/output",
            "_model_module_version": "1.0.0",
            "_view_count": null,
            "_view_module_version": "1.0.0",
            "layout": "IPY_MODEL_1b08ed008bf24984a68f1bebc95ecc7a",
            "_model_module": "@jupyter-widgets/output"
          }
        },
        "6a61ecda10cf4a55b7a84152f0af8938": {
          "model_module": "@jupyter-widgets/controls",
          "model_name": "DescriptionStyleModel",
          "state": {
            "_view_name": "StyleView",
            "_model_name": "DescriptionStyleModel",
            "description_width": "",
            "_view_module": "@jupyter-widgets/base",
            "_model_module_version": "1.5.0",
            "_view_count": null,
            "_view_module_version": "1.2.0",
            "_model_module": "@jupyter-widgets/controls"
          }
        },
        "016a1bf030f84e87aa35ace5118478f2": {
          "model_module": "@jupyter-widgets/base",
          "model_name": "LayoutModel",
          "state": {
            "_view_name": "LayoutView",
            "grid_template_rows": null,
            "right": null,
            "justify_content": null,
            "_view_module": "@jupyter-widgets/base",
            "overflow": null,
            "_model_module_version": "1.2.0",
            "_view_count": null,
            "flex_flow": null,
            "width": null,
            "min_width": null,
            "border": null,
            "align_items": null,
            "bottom": null,
            "_model_module": "@jupyter-widgets/base",
            "top": null,
            "grid_column": null,
            "overflow_y": null,
            "overflow_x": null,
            "grid_auto_flow": null,
            "grid_area": null,
            "grid_template_columns": null,
            "flex": null,
            "_model_name": "LayoutModel",
            "justify_items": null,
            "grid_row": null,
            "max_height": null,
            "align_content": null,
            "visibility": null,
            "align_self": null,
            "height": null,
            "min_height": null,
            "padding": null,
            "grid_auto_rows": null,
            "grid_gap": null,
            "max_width": null,
            "order": null,
            "_view_module_version": "1.2.0",
            "grid_template_areas": null,
            "object_position": null,
            "object_fit": null,
            "grid_auto_columns": null,
            "margin": null,
            "display": null,
            "left": null
          }
        },
        "a20338ef4c814e058b424250aef8e27d": {
          "model_module": "@jupyter-widgets/controls",
          "model_name": "DescriptionStyleModel",
          "state": {
            "_view_name": "StyleView",
            "_model_name": "DescriptionStyleModel",
            "description_width": "",
            "_view_module": "@jupyter-widgets/base",
            "_model_module_version": "1.5.0",
            "_view_count": null,
            "_view_module_version": "1.2.0",
            "_model_module": "@jupyter-widgets/controls"
          }
        },
        "b60d209658c44fdd8a96465203532546": {
          "model_module": "@jupyter-widgets/base",
          "model_name": "LayoutModel",
          "state": {
            "_view_name": "LayoutView",
            "grid_template_rows": null,
            "right": null,
            "justify_content": null,
            "_view_module": "@jupyter-widgets/base",
            "overflow": null,
            "_model_module_version": "1.2.0",
            "_view_count": null,
            "flex_flow": null,
            "width": null,
            "min_width": null,
            "border": null,
            "align_items": null,
            "bottom": null,
            "_model_module": "@jupyter-widgets/base",
            "top": null,
            "grid_column": null,
            "overflow_y": null,
            "overflow_x": null,
            "grid_auto_flow": null,
            "grid_area": null,
            "grid_template_columns": null,
            "flex": null,
            "_model_name": "LayoutModel",
            "justify_items": null,
            "grid_row": null,
            "max_height": null,
            "align_content": null,
            "visibility": null,
            "align_self": null,
            "height": null,
            "min_height": null,
            "padding": null,
            "grid_auto_rows": null,
            "grid_gap": null,
            "max_width": null,
            "order": null,
            "_view_module_version": "1.2.0",
            "grid_template_areas": null,
            "object_position": null,
            "object_fit": null,
            "grid_auto_columns": null,
            "margin": null,
            "display": null,
            "left": null
          }
        },
        "1b08ed008bf24984a68f1bebc95ecc7a": {
          "model_module": "@jupyter-widgets/base",
          "model_name": "LayoutModel",
          "state": {
            "_view_name": "LayoutView",
            "grid_template_rows": null,
            "right": null,
            "justify_content": null,
            "_view_module": "@jupyter-widgets/base",
            "overflow": null,
            "_model_module_version": "1.2.0",
            "_view_count": null,
            "flex_flow": null,
            "width": null,
            "min_width": null,
            "border": null,
            "align_items": null,
            "bottom": null,
            "_model_module": "@jupyter-widgets/base",
            "top": null,
            "grid_column": null,
            "overflow_y": null,
            "overflow_x": null,
            "grid_auto_flow": null,
            "grid_area": null,
            "grid_template_columns": null,
            "flex": null,
            "_model_name": "LayoutModel",
            "justify_items": null,
            "grid_row": null,
            "max_height": null,
            "align_content": null,
            "visibility": null,
            "align_self": null,
            "height": null,
            "min_height": null,
            "padding": null,
            "grid_auto_rows": null,
            "grid_gap": null,
            "max_width": null,
            "order": null,
            "_view_module_version": "1.2.0",
            "grid_template_areas": null,
            "object_position": null,
            "object_fit": null,
            "grid_auto_columns": null,
            "margin": null,
            "display": null,
            "left": null
          }
        }
      }
    }
  },
  "cells": [
    {
      "cell_type": "markdown",
      "metadata": {
        "id": "3dB5PXdlPECw"
      },
      "source": [
        "# NPI News Classifier"
      ]
    },
    {
      "cell_type": "markdown",
      "metadata": {
        "id": "Lkz1nnBBw5NP"
      },
      "source": [
        "This prototype app collects 100 news articles from the last 24 hours using the [GDELT](https://www.gdeltproject.org/) API. Machine learning is used to score and sort the articles according to whether the story is about NPI changes or not. Relevance scorse range from 0 to 100. I manually labelled news headlines to create a training dataset for the ML algorithm which can be viewed [here](https://docs.google.com/spreadsheets/d/1pjC0M53ES8BP9jH52ngjQPmtkkd2onIsoALC6AQaL3U/edit?usp=sharing) for colleagues with access to google sheets.\n",
        "\n",
        "Please be patient as it is running on slow free infrastructure.\n",
        "\n",
        "![alt text](https://www.countryside-jobs.com/perch/resources/hero/newspapers-w1600h500.jpg \"Newspapers\")\n",
        "\n",
        "You can \n",
        "\n",
        "- change the source country of news articles such as inputting `spain` or `unitedkingdom` instead of `world` \n",
        "- try a different GDELT query string [[docs](https://blog.gdeltproject.org/gdelt-doc-2-0-api-debuts/v)]\n",
        "\n"
      ]
    },
    {
      "cell_type": "code",
      "metadata": {
        "id": "FBxRfY_gYhNP"
      },
      "source": [
        "# !pip install -Uqq fastbook\n",
        "# import fastbook\n",
        "# fastbook.setup_book()\n",
        "\n",
        "from ipywidgets import interact\n",
        "\n",
        "import requests\n",
        "import pandas as pd\n",
        "from bs4 import BeautifulSoup\n",
        "from IPython.display import HTML\n",
        "import urllib.request\n",
        "\n",
        "\n",
        "from fastai.text.all import *\n"
      ],
      "execution_count": 1,
      "outputs": []
    },
    {
      "cell_type": "code",
      "metadata": {
        "id": "sGFpx-qJYvVK"
      },
      "source": [
        "MODEL_URL = \"https://www.dropbox.com/s/wg7gaa9gz8lmfrm/classifier_2020-11-11_1807.pkl?dl=1\"\n",
        "_ = urllib.request.urlretrieve(MODEL_URL, \"classifier_2020-11-11_1807.pkl\")"
      ],
      "execution_count": 9,
      "outputs": []
    },
    {
      "cell_type": "code",
      "metadata": {
        "id": "uQkSMBXJYxCg"
      },
      "source": [
        "classifier = load_learner(\"classifier_2020-11-11_1807.pkl\")"
      ],
      "execution_count": 10,
      "outputs": []
    },
    {
      "cell_type": "code",
      "metadata": {
        "id": "kqpCv5lJeNV1"
      },
      "source": [
        "def get_articles(query: str, country: str):\n",
        "  url = \"https://api.gdeltproject.org/api/v2/doc/doc\"\n",
        "  if country == 'world':\n",
        "    query_modifier =  ''\n",
        "  else:\n",
        "    query_modifier = 'sourcecountry:{}'.format(country)\n",
        "  payload = {\n",
        "      'query': '{} {} sourcelang:english'.format(query, query_modifier),\n",
        "      'mode': \"ArtList\",\n",
        "      'format': 'RSS',\n",
        "      'maxrecords': 100,\n",
        "      'timespan':'1d'\n",
        "  }\n",
        "  r = requests.get(url, params=payload)\n",
        "  return(r)\n",
        "\n",
        "def parse_articles(r: requests.Response):\n",
        "  soup = BeautifulSoup(r.text, 'xml')\n",
        "  data = [{'headline':i.title.text, 'url':i.link.text} for i in soup.find_all('item') if i.link is not None]\n",
        "  df = pd.DataFrame(data)\n",
        "  return(df)\n",
        "\n",
        "def output_prediction_table(query: str, country: str):\n",
        "  r = get_articles(query, country)\n",
        "  df = parse_articles(r)\n",
        "  df = df.groupby('headline', as_index=False).agg(first)\n",
        "  headlines = df.headline.to_list()\n",
        "  with classifier.no_bar() as clf:\n",
        "    predictions = [clf.predict(headline)[2][1] for headline in headlines]\n",
        "  df['relevance'] = [float(p)*100 for p in predictions]\n",
        "  df['relevance'] = df['relevance'].round().astype(int)\n",
        "  # test_dl = classifier.dls.test_dl(headlines)\n",
        "  # df['score'] = [float(i[1]) for i in classifier.get_preds(dl=test_dl)[0]]\n",
        "  # df['score'] = np.round(df['score'] * 100).astype(int)\n",
        "  df = df.sort_values('relevance', ascending=False)\n",
        "\n",
        "  def make_href(row: pd.Series):\n",
        "    return '<a href=\"{}\">{}</a>'.format(row.url, row.headline)\n",
        "\n",
        "  df['headline'] = df.apply(make_href, axis = 1)\n",
        "  html_string = df[['relevance', 'headline']].to_html(index=False)\n",
        "  html_string = (\n",
        "      html_string.replace('&lt;', '<')\n",
        "      .replace('&gt;', '>')\n",
        "      .replace('&lt;/a&gt;', '/a')\n",
        "  )\n",
        "  return HTML(html_string)"
      ],
      "execution_count": 20,
      "outputs": []
    },
    {
      "cell_type": "code",
      "metadata": {
        "id": "Hz1zYn7Ynznu",
        "outputId": "941b73f2-eb4d-447a-88ce-4230c5d7dcc7",
        "colab": {
          "base_uri": "https://localhost:8080/",
          "height": 1000,
          "referenced_widgets": [
            "fa6d91b205de4df2b61d56b88d2f82e8",
            "d3911e64d2f14a709e9980d03b9b0f7a",
            "72e3a480c2fd44cf97ef6f04fd660588",
            "e74440d69d684e95b75e04733373e16b",
            "8f7fefd599f24d829f953482e35dbf5d",
            "6a61ecda10cf4a55b7a84152f0af8938",
            "016a1bf030f84e87aa35ace5118478f2",
            "a20338ef4c814e058b424250aef8e27d",
            "b60d209658c44fdd8a96465203532546",
            "1b08ed008bf24984a68f1bebc95ecc7a"
          ]
        }
      },
      "source": [
        "interact(output_prediction_table, \n",
        "         query = \"(covid OR coronavirus OR virus OR pandemic) (rules OR restrictions OR shutdown OR measures OR lockdown)\",\n",
        "         country=\"world\")"
      ],
      "execution_count": 21,
      "outputs": [
        {
          "output_type": "display_data",
          "data": {
            "application/vnd.jupyter.widget-view+json": {
              "model_id": "fa6d91b205de4df2b61d56b88d2f82e8",
              "version_minor": 0,
              "version_major": 2
            },
            "text/plain": [
              "interactive(children=(Text(value='(covid OR coronavirus OR virus OR pandemic) (rules OR restrictions OR shutdo…"
            ]
          },
          "metadata": {
            "tags": []
          }
        },
        {
          "output_type": "execute_result",
          "data": {
            "text/plain": [
              "<function __main__.output_prediction_table>"
            ]
          },
          "metadata": {
            "tags": []
          },
          "execution_count": 21
        }
      ]
    },
    {
      "cell_type": "code",
      "metadata": {
        "id": "oaq9BAzsDZsf"
      },
      "source": [
        ""
      ],
      "execution_count": 6,
      "outputs": []
    }
  ]
}